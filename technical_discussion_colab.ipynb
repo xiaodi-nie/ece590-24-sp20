{
  "nbformat": 4,
  "nbformat_minor": 0,
  "metadata": {
    "colab": {
      "name": "technical_discussion_colab.ipynb",
      "provenance": [],
      "authorship_tag": "ABX9TyPfNbIaYJK7kxVXDz+7Sc8A",
      "include_colab_link": true
    },
    "kernelspec": {
      "name": "python3",
      "display_name": "Python 3"
    }
  },
  "cells": [
    {
      "cell_type": "markdown",
      "metadata": {
        "id": "view-in-github",
        "colab_type": "text"
      },
      "source": [
        "<a href=\"https://colab.research.google.com/github/xiaodi-nie/ece590-24-sp20/blob/master/technical_discussion_colab.ipynb\" target=\"_parent\"><img src=\"https://colab.research.google.com/assets/colab-badge.svg\" alt=\"Open In Colab\"/></a>"
      ]
    },
    {
      "cell_type": "code",
      "metadata": {
        "id": "IfvPIH18w5Ls",
        "colab_type": "code",
        "colab": {}
      },
      "source": [
        "def hello():\n",
        "  print(\"hello this is a snippet\")"
      ],
      "execution_count": 0,
      "outputs": []
    }
  ]
}